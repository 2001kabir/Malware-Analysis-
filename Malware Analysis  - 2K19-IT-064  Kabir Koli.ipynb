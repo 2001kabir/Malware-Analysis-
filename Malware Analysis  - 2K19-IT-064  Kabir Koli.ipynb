{
 "cells": [
  {
   "cell_type": "code",
   "execution_count": 1,
   "id": "66df4365",
   "metadata": {},
   "outputs": [],
   "source": [
    "import pandas as pd #for data analysis.\n",
    "import numpy as np #for mathematical operations\n",
    "import matplotlib.pyplot as plt #b for data visualization\n",
    "import seaborn as sns # used for data visualization\n",
    "import csv \n",
    "import random #for generate random numbers"
   ]
  },
  {
   "cell_type": "code",
   "execution_count": 2,
   "id": "6cf0dc3d",
   "metadata": {},
   "outputs": [],
   "source": [
    "import sklearn #for classification, regression\n",
    "from sklearn.feature_selection import SelectFromModel\n",
    "from sklearn.ensemble import ExtraTreesClassifier\n",
    "from sklearn.metrics import confusion_matrix"
   ]
  },
  {
   "cell_type": "code",
   "execution_count": 3,
   "id": "b7f95fe2",
   "metadata": {},
   "outputs": [],
   "source": [
    "malData=pd.read_csv(\"C:/Users/KABIR\\malware\\MalwareDATA.csv\",sep=\"|\") #loading the dataset"
   ]
  },
  {
   "cell_type": "code",
   "execution_count": 4,
   "id": "48ff09c8",
   "metadata": {},
   "outputs": [
    {
     "data": {
      "text/html": [
       "<div>\n",
       "<style scoped>\n",
       "    .dataframe tbody tr th:only-of-type {\n",
       "        vertical-align: middle;\n",
       "    }\n",
       "\n",
       "    .dataframe tbody tr th {\n",
       "        vertical-align: top;\n",
       "    }\n",
       "\n",
       "    .dataframe thead th {\n",
       "        text-align: right;\n",
       "    }\n",
       "</style>\n",
       "<table border=\"1\" class=\"dataframe\">\n",
       "  <thead>\n",
       "    <tr style=\"text-align: right;\">\n",
       "      <th></th>\n",
       "      <th>Name</th>\n",
       "      <th>md5</th>\n",
       "      <th>Machine</th>\n",
       "      <th>SizeOfOptionalHeader</th>\n",
       "      <th>Characteristics</th>\n",
       "      <th>MajorLinkerVersion</th>\n",
       "      <th>MinorLinkerVersion</th>\n",
       "      <th>SizeOfCode</th>\n",
       "      <th>SizeOfInitializedData</th>\n",
       "      <th>SizeOfUninitializedData</th>\n",
       "      <th>...</th>\n",
       "      <th>ResourcesNb</th>\n",
       "      <th>ResourcesMeanEntropy</th>\n",
       "      <th>ResourcesMinEntropy</th>\n",
       "      <th>ResourcesMaxEntropy</th>\n",
       "      <th>ResourcesMeanSize</th>\n",
       "      <th>ResourcesMinSize</th>\n",
       "      <th>ResourcesMaxSize</th>\n",
       "      <th>LoadConfigurationSize</th>\n",
       "      <th>VersionInformationSize</th>\n",
       "      <th>legitimate</th>\n",
       "    </tr>\n",
       "  </thead>\n",
       "  <tbody>\n",
       "    <tr>\n",
       "      <th>0</th>\n",
       "      <td>memtest.exe</td>\n",
       "      <td>631ea355665f28d4707448e442fbf5b8</td>\n",
       "      <td>332</td>\n",
       "      <td>224</td>\n",
       "      <td>258</td>\n",
       "      <td>9</td>\n",
       "      <td>0</td>\n",
       "      <td>361984</td>\n",
       "      <td>115712</td>\n",
       "      <td>0</td>\n",
       "      <td>...</td>\n",
       "      <td>4</td>\n",
       "      <td>3.262823</td>\n",
       "      <td>2.568844</td>\n",
       "      <td>3.537939</td>\n",
       "      <td>8797.000000</td>\n",
       "      <td>216</td>\n",
       "      <td>18032</td>\n",
       "      <td>0</td>\n",
       "      <td>16</td>\n",
       "      <td>1</td>\n",
       "    </tr>\n",
       "    <tr>\n",
       "      <th>1</th>\n",
       "      <td>ose.exe</td>\n",
       "      <td>9d10f99a6712e28f8acd5641e3a7ea6b</td>\n",
       "      <td>332</td>\n",
       "      <td>224</td>\n",
       "      <td>3330</td>\n",
       "      <td>9</td>\n",
       "      <td>0</td>\n",
       "      <td>130560</td>\n",
       "      <td>19968</td>\n",
       "      <td>0</td>\n",
       "      <td>...</td>\n",
       "      <td>2</td>\n",
       "      <td>4.250461</td>\n",
       "      <td>3.420744</td>\n",
       "      <td>5.080177</td>\n",
       "      <td>837.000000</td>\n",
       "      <td>518</td>\n",
       "      <td>1156</td>\n",
       "      <td>72</td>\n",
       "      <td>18</td>\n",
       "      <td>1</td>\n",
       "    </tr>\n",
       "    <tr>\n",
       "      <th>2</th>\n",
       "      <td>setup.exe</td>\n",
       "      <td>4d92f518527353c0db88a70fddcfd390</td>\n",
       "      <td>332</td>\n",
       "      <td>224</td>\n",
       "      <td>3330</td>\n",
       "      <td>9</td>\n",
       "      <td>0</td>\n",
       "      <td>517120</td>\n",
       "      <td>621568</td>\n",
       "      <td>0</td>\n",
       "      <td>...</td>\n",
       "      <td>11</td>\n",
       "      <td>4.426324</td>\n",
       "      <td>2.846449</td>\n",
       "      <td>5.271813</td>\n",
       "      <td>31102.272727</td>\n",
       "      <td>104</td>\n",
       "      <td>270376</td>\n",
       "      <td>72</td>\n",
       "      <td>18</td>\n",
       "      <td>1</td>\n",
       "    </tr>\n",
       "    <tr>\n",
       "      <th>3</th>\n",
       "      <td>DW20.EXE</td>\n",
       "      <td>a41e524f8d45f0074fd07805ff0c9b12</td>\n",
       "      <td>332</td>\n",
       "      <td>224</td>\n",
       "      <td>258</td>\n",
       "      <td>9</td>\n",
       "      <td>0</td>\n",
       "      <td>585728</td>\n",
       "      <td>369152</td>\n",
       "      <td>0</td>\n",
       "      <td>...</td>\n",
       "      <td>10</td>\n",
       "      <td>4.364291</td>\n",
       "      <td>2.669314</td>\n",
       "      <td>6.400720</td>\n",
       "      <td>1457.000000</td>\n",
       "      <td>90</td>\n",
       "      <td>4264</td>\n",
       "      <td>72</td>\n",
       "      <td>18</td>\n",
       "      <td>1</td>\n",
       "    </tr>\n",
       "    <tr>\n",
       "      <th>4</th>\n",
       "      <td>dwtrig20.exe</td>\n",
       "      <td>c87e561258f2f8650cef999bf643a731</td>\n",
       "      <td>332</td>\n",
       "      <td>224</td>\n",
       "      <td>258</td>\n",
       "      <td>9</td>\n",
       "      <td>0</td>\n",
       "      <td>294912</td>\n",
       "      <td>247296</td>\n",
       "      <td>0</td>\n",
       "      <td>...</td>\n",
       "      <td>2</td>\n",
       "      <td>4.306100</td>\n",
       "      <td>3.421598</td>\n",
       "      <td>5.190603</td>\n",
       "      <td>1074.500000</td>\n",
       "      <td>849</td>\n",
       "      <td>1300</td>\n",
       "      <td>72</td>\n",
       "      <td>18</td>\n",
       "      <td>1</td>\n",
       "    </tr>\n",
       "  </tbody>\n",
       "</table>\n",
       "<p>5 rows × 57 columns</p>\n",
       "</div>"
      ],
      "text/plain": [
       "           Name                               md5  Machine  \\\n",
       "0   memtest.exe  631ea355665f28d4707448e442fbf5b8      332   \n",
       "1       ose.exe  9d10f99a6712e28f8acd5641e3a7ea6b      332   \n",
       "2     setup.exe  4d92f518527353c0db88a70fddcfd390      332   \n",
       "3      DW20.EXE  a41e524f8d45f0074fd07805ff0c9b12      332   \n",
       "4  dwtrig20.exe  c87e561258f2f8650cef999bf643a731      332   \n",
       "\n",
       "   SizeOfOptionalHeader  Characteristics  MajorLinkerVersion  \\\n",
       "0                   224              258                   9   \n",
       "1                   224             3330                   9   \n",
       "2                   224             3330                   9   \n",
       "3                   224              258                   9   \n",
       "4                   224              258                   9   \n",
       "\n",
       "   MinorLinkerVersion  SizeOfCode  SizeOfInitializedData  \\\n",
       "0                   0      361984                 115712   \n",
       "1                   0      130560                  19968   \n",
       "2                   0      517120                 621568   \n",
       "3                   0      585728                 369152   \n",
       "4                   0      294912                 247296   \n",
       "\n",
       "   SizeOfUninitializedData  ...  ResourcesNb  ResourcesMeanEntropy  \\\n",
       "0                        0  ...            4              3.262823   \n",
       "1                        0  ...            2              4.250461   \n",
       "2                        0  ...           11              4.426324   \n",
       "3                        0  ...           10              4.364291   \n",
       "4                        0  ...            2              4.306100   \n",
       "\n",
       "   ResourcesMinEntropy  ResourcesMaxEntropy  ResourcesMeanSize  \\\n",
       "0             2.568844             3.537939        8797.000000   \n",
       "1             3.420744             5.080177         837.000000   \n",
       "2             2.846449             5.271813       31102.272727   \n",
       "3             2.669314             6.400720        1457.000000   \n",
       "4             3.421598             5.190603        1074.500000   \n",
       "\n",
       "   ResourcesMinSize  ResourcesMaxSize  LoadConfigurationSize  \\\n",
       "0               216             18032                      0   \n",
       "1               518              1156                     72   \n",
       "2               104            270376                     72   \n",
       "3                90              4264                     72   \n",
       "4               849              1300                     72   \n",
       "\n",
       "   VersionInformationSize  legitimate  \n",
       "0                      16           1  \n",
       "1                      18           1  \n",
       "2                      18           1  \n",
       "3                      18           1  \n",
       "4                      18           1  \n",
       "\n",
       "[5 rows x 57 columns]"
      ]
     },
     "execution_count": 4,
     "metadata": {},
     "output_type": "execute_result"
    }
   ],
   "source": [
    "malData.head() #used to get first n rows "
   ]
  },
  {
   "cell_type": "code",
   "execution_count": 5,
   "id": "2eb3f8f8",
   "metadata": {},
   "outputs": [
    {
     "data": {
      "text/plain": [
       "(138047, 57)"
      ]
     },
     "execution_count": 5,
     "metadata": {},
     "output_type": "execute_result"
    }
   ],
   "source": [
    "malData.shape  "
   ]
  },
  {
   "cell_type": "code",
   "execution_count": 6,
   "id": "a2e83240",
   "metadata": {},
   "outputs": [
    {
     "data": {
      "text/html": [
       "<div>\n",
       "<style scoped>\n",
       "    .dataframe tbody tr th:only-of-type {\n",
       "        vertical-align: middle;\n",
       "    }\n",
       "\n",
       "    .dataframe tbody tr th {\n",
       "        vertical-align: top;\n",
       "    }\n",
       "\n",
       "    .dataframe thead th {\n",
       "        text-align: right;\n",
       "    }\n",
       "</style>\n",
       "<table border=\"1\" class=\"dataframe\">\n",
       "  <thead>\n",
       "    <tr style=\"text-align: right;\">\n",
       "      <th></th>\n",
       "      <th>Machine</th>\n",
       "      <th>SizeOfOptionalHeader</th>\n",
       "      <th>Characteristics</th>\n",
       "      <th>MajorLinkerVersion</th>\n",
       "      <th>MinorLinkerVersion</th>\n",
       "      <th>SizeOfCode</th>\n",
       "      <th>SizeOfInitializedData</th>\n",
       "      <th>SizeOfUninitializedData</th>\n",
       "      <th>AddressOfEntryPoint</th>\n",
       "      <th>BaseOfCode</th>\n",
       "      <th>...</th>\n",
       "      <th>ResourcesNb</th>\n",
       "      <th>ResourcesMeanEntropy</th>\n",
       "      <th>ResourcesMinEntropy</th>\n",
       "      <th>ResourcesMaxEntropy</th>\n",
       "      <th>ResourcesMeanSize</th>\n",
       "      <th>ResourcesMinSize</th>\n",
       "      <th>ResourcesMaxSize</th>\n",
       "      <th>LoadConfigurationSize</th>\n",
       "      <th>VersionInformationSize</th>\n",
       "      <th>legitimate</th>\n",
       "    </tr>\n",
       "  </thead>\n",
       "  <tbody>\n",
       "    <tr>\n",
       "      <th>count</th>\n",
       "      <td>138047.000000</td>\n",
       "      <td>138047.000000</td>\n",
       "      <td>138047.000000</td>\n",
       "      <td>138047.000000</td>\n",
       "      <td>138047.000000</td>\n",
       "      <td>1.380470e+05</td>\n",
       "      <td>1.380470e+05</td>\n",
       "      <td>1.380470e+05</td>\n",
       "      <td>1.380470e+05</td>\n",
       "      <td>1.380470e+05</td>\n",
       "      <td>...</td>\n",
       "      <td>138047.000000</td>\n",
       "      <td>138047.000000</td>\n",
       "      <td>138047.000000</td>\n",
       "      <td>138047.000000</td>\n",
       "      <td>1.380470e+05</td>\n",
       "      <td>1.380470e+05</td>\n",
       "      <td>1.380470e+05</td>\n",
       "      <td>1.380470e+05</td>\n",
       "      <td>138047.000000</td>\n",
       "      <td>138047.000000</td>\n",
       "    </tr>\n",
       "    <tr>\n",
       "      <th>mean</th>\n",
       "      <td>4259.069274</td>\n",
       "      <td>225.845632</td>\n",
       "      <td>4444.145994</td>\n",
       "      <td>8.619774</td>\n",
       "      <td>3.819286</td>\n",
       "      <td>2.425956e+05</td>\n",
       "      <td>4.504867e+05</td>\n",
       "      <td>1.009525e+05</td>\n",
       "      <td>1.719561e+05</td>\n",
       "      <td>5.779845e+04</td>\n",
       "      <td>...</td>\n",
       "      <td>22.050700</td>\n",
       "      <td>4.000127</td>\n",
       "      <td>2.434541</td>\n",
       "      <td>5.521610</td>\n",
       "      <td>5.545093e+04</td>\n",
       "      <td>1.818082e+04</td>\n",
       "      <td>2.465903e+05</td>\n",
       "      <td>4.656750e+05</td>\n",
       "      <td>12.363115</td>\n",
       "      <td>0.299340</td>\n",
       "    </tr>\n",
       "    <tr>\n",
       "      <th>std</th>\n",
       "      <td>10880.347245</td>\n",
       "      <td>5.121399</td>\n",
       "      <td>8186.782524</td>\n",
       "      <td>4.088757</td>\n",
       "      <td>11.862675</td>\n",
       "      <td>5.754485e+06</td>\n",
       "      <td>2.101599e+07</td>\n",
       "      <td>1.635288e+07</td>\n",
       "      <td>3.430553e+06</td>\n",
       "      <td>5.527658e+06</td>\n",
       "      <td>...</td>\n",
       "      <td>136.494244</td>\n",
       "      <td>1.112981</td>\n",
       "      <td>0.815577</td>\n",
       "      <td>1.597403</td>\n",
       "      <td>7.799163e+06</td>\n",
       "      <td>6.502369e+06</td>\n",
       "      <td>2.124860e+07</td>\n",
       "      <td>2.608987e+07</td>\n",
       "      <td>6.798878</td>\n",
       "      <td>0.457971</td>\n",
       "    </tr>\n",
       "    <tr>\n",
       "      <th>min</th>\n",
       "      <td>332.000000</td>\n",
       "      <td>224.000000</td>\n",
       "      <td>2.000000</td>\n",
       "      <td>0.000000</td>\n",
       "      <td>0.000000</td>\n",
       "      <td>0.000000e+00</td>\n",
       "      <td>0.000000e+00</td>\n",
       "      <td>0.000000e+00</td>\n",
       "      <td>0.000000e+00</td>\n",
       "      <td>0.000000e+00</td>\n",
       "      <td>...</td>\n",
       "      <td>0.000000</td>\n",
       "      <td>0.000000</td>\n",
       "      <td>0.000000</td>\n",
       "      <td>0.000000</td>\n",
       "      <td>0.000000e+00</td>\n",
       "      <td>0.000000e+00</td>\n",
       "      <td>0.000000e+00</td>\n",
       "      <td>0.000000e+00</td>\n",
       "      <td>0.000000</td>\n",
       "      <td>0.000000</td>\n",
       "    </tr>\n",
       "    <tr>\n",
       "      <th>25%</th>\n",
       "      <td>332.000000</td>\n",
       "      <td>224.000000</td>\n",
       "      <td>258.000000</td>\n",
       "      <td>8.000000</td>\n",
       "      <td>0.000000</td>\n",
       "      <td>3.020800e+04</td>\n",
       "      <td>2.457600e+04</td>\n",
       "      <td>0.000000e+00</td>\n",
       "      <td>1.272100e+04</td>\n",
       "      <td>4.096000e+03</td>\n",
       "      <td>...</td>\n",
       "      <td>5.000000</td>\n",
       "      <td>3.458505</td>\n",
       "      <td>2.178748</td>\n",
       "      <td>4.828706</td>\n",
       "      <td>9.560000e+02</td>\n",
       "      <td>4.800000e+01</td>\n",
       "      <td>2.216000e+03</td>\n",
       "      <td>0.000000e+00</td>\n",
       "      <td>13.000000</td>\n",
       "      <td>0.000000</td>\n",
       "    </tr>\n",
       "    <tr>\n",
       "      <th>50%</th>\n",
       "      <td>332.000000</td>\n",
       "      <td>224.000000</td>\n",
       "      <td>258.000000</td>\n",
       "      <td>9.000000</td>\n",
       "      <td>0.000000</td>\n",
       "      <td>1.136640e+05</td>\n",
       "      <td>2.631680e+05</td>\n",
       "      <td>0.000000e+00</td>\n",
       "      <td>5.288300e+04</td>\n",
       "      <td>4.096000e+03</td>\n",
       "      <td>...</td>\n",
       "      <td>6.000000</td>\n",
       "      <td>3.729824</td>\n",
       "      <td>2.458492</td>\n",
       "      <td>5.317552</td>\n",
       "      <td>2.708154e+03</td>\n",
       "      <td>4.800000e+01</td>\n",
       "      <td>9.640000e+03</td>\n",
       "      <td>7.200000e+01</td>\n",
       "      <td>15.000000</td>\n",
       "      <td>0.000000</td>\n",
       "    </tr>\n",
       "    <tr>\n",
       "      <th>75%</th>\n",
       "      <td>332.000000</td>\n",
       "      <td>224.000000</td>\n",
       "      <td>8226.000000</td>\n",
       "      <td>10.000000</td>\n",
       "      <td>0.000000</td>\n",
       "      <td>1.203200e+05</td>\n",
       "      <td>3.850240e+05</td>\n",
       "      <td>0.000000e+00</td>\n",
       "      <td>6.157800e+04</td>\n",
       "      <td>4.096000e+03</td>\n",
       "      <td>...</td>\n",
       "      <td>13.000000</td>\n",
       "      <td>4.233051</td>\n",
       "      <td>2.696833</td>\n",
       "      <td>6.502239</td>\n",
       "      <td>6.558429e+03</td>\n",
       "      <td>1.320000e+02</td>\n",
       "      <td>2.378000e+04</td>\n",
       "      <td>7.200000e+01</td>\n",
       "      <td>16.000000</td>\n",
       "      <td>1.000000</td>\n",
       "    </tr>\n",
       "    <tr>\n",
       "      <th>max</th>\n",
       "      <td>34404.000000</td>\n",
       "      <td>352.000000</td>\n",
       "      <td>49551.000000</td>\n",
       "      <td>255.000000</td>\n",
       "      <td>255.000000</td>\n",
       "      <td>1.818587e+09</td>\n",
       "      <td>4.294966e+09</td>\n",
       "      <td>4.294941e+09</td>\n",
       "      <td>1.074484e+09</td>\n",
       "      <td>2.028711e+09</td>\n",
       "      <td>...</td>\n",
       "      <td>7694.000000</td>\n",
       "      <td>7.999723</td>\n",
       "      <td>7.999723</td>\n",
       "      <td>8.000000</td>\n",
       "      <td>2.415919e+09</td>\n",
       "      <td>2.415919e+09</td>\n",
       "      <td>4.294903e+09</td>\n",
       "      <td>4.294967e+09</td>\n",
       "      <td>26.000000</td>\n",
       "      <td>1.000000</td>\n",
       "    </tr>\n",
       "  </tbody>\n",
       "</table>\n",
       "<p>8 rows × 55 columns</p>\n",
       "</div>"
      ],
      "text/plain": [
       "             Machine  SizeOfOptionalHeader  Characteristics  \\\n",
       "count  138047.000000         138047.000000    138047.000000   \n",
       "mean     4259.069274            225.845632      4444.145994   \n",
       "std     10880.347245              5.121399      8186.782524   \n",
       "min       332.000000            224.000000         2.000000   \n",
       "25%       332.000000            224.000000       258.000000   \n",
       "50%       332.000000            224.000000       258.000000   \n",
       "75%       332.000000            224.000000      8226.000000   \n",
       "max     34404.000000            352.000000     49551.000000   \n",
       "\n",
       "       MajorLinkerVersion  MinorLinkerVersion    SizeOfCode  \\\n",
       "count       138047.000000       138047.000000  1.380470e+05   \n",
       "mean             8.619774            3.819286  2.425956e+05   \n",
       "std              4.088757           11.862675  5.754485e+06   \n",
       "min              0.000000            0.000000  0.000000e+00   \n",
       "25%              8.000000            0.000000  3.020800e+04   \n",
       "50%              9.000000            0.000000  1.136640e+05   \n",
       "75%             10.000000            0.000000  1.203200e+05   \n",
       "max            255.000000          255.000000  1.818587e+09   \n",
       "\n",
       "       SizeOfInitializedData  SizeOfUninitializedData  AddressOfEntryPoint  \\\n",
       "count           1.380470e+05             1.380470e+05         1.380470e+05   \n",
       "mean            4.504867e+05             1.009525e+05         1.719561e+05   \n",
       "std             2.101599e+07             1.635288e+07         3.430553e+06   \n",
       "min             0.000000e+00             0.000000e+00         0.000000e+00   \n",
       "25%             2.457600e+04             0.000000e+00         1.272100e+04   \n",
       "50%             2.631680e+05             0.000000e+00         5.288300e+04   \n",
       "75%             3.850240e+05             0.000000e+00         6.157800e+04   \n",
       "max             4.294966e+09             4.294941e+09         1.074484e+09   \n",
       "\n",
       "         BaseOfCode  ...    ResourcesNb  ResourcesMeanEntropy  \\\n",
       "count  1.380470e+05  ...  138047.000000         138047.000000   \n",
       "mean   5.779845e+04  ...      22.050700              4.000127   \n",
       "std    5.527658e+06  ...     136.494244              1.112981   \n",
       "min    0.000000e+00  ...       0.000000              0.000000   \n",
       "25%    4.096000e+03  ...       5.000000              3.458505   \n",
       "50%    4.096000e+03  ...       6.000000              3.729824   \n",
       "75%    4.096000e+03  ...      13.000000              4.233051   \n",
       "max    2.028711e+09  ...    7694.000000              7.999723   \n",
       "\n",
       "       ResourcesMinEntropy  ResourcesMaxEntropy  ResourcesMeanSize  \\\n",
       "count        138047.000000        138047.000000       1.380470e+05   \n",
       "mean              2.434541             5.521610       5.545093e+04   \n",
       "std               0.815577             1.597403       7.799163e+06   \n",
       "min               0.000000             0.000000       0.000000e+00   \n",
       "25%               2.178748             4.828706       9.560000e+02   \n",
       "50%               2.458492             5.317552       2.708154e+03   \n",
       "75%               2.696833             6.502239       6.558429e+03   \n",
       "max               7.999723             8.000000       2.415919e+09   \n",
       "\n",
       "       ResourcesMinSize  ResourcesMaxSize  LoadConfigurationSize  \\\n",
       "count      1.380470e+05      1.380470e+05           1.380470e+05   \n",
       "mean       1.818082e+04      2.465903e+05           4.656750e+05   \n",
       "std        6.502369e+06      2.124860e+07           2.608987e+07   \n",
       "min        0.000000e+00      0.000000e+00           0.000000e+00   \n",
       "25%        4.800000e+01      2.216000e+03           0.000000e+00   \n",
       "50%        4.800000e+01      9.640000e+03           7.200000e+01   \n",
       "75%        1.320000e+02      2.378000e+04           7.200000e+01   \n",
       "max        2.415919e+09      4.294903e+09           4.294967e+09   \n",
       "\n",
       "       VersionInformationSize     legitimate  \n",
       "count           138047.000000  138047.000000  \n",
       "mean                12.363115       0.299340  \n",
       "std                  6.798878       0.457971  \n",
       "min                  0.000000       0.000000  \n",
       "25%                 13.000000       0.000000  \n",
       "50%                 15.000000       0.000000  \n",
       "75%                 16.000000       1.000000  \n",
       "max                 26.000000       1.000000  \n",
       "\n",
       "[8 rows x 55 columns]"
      ]
     },
     "execution_count": 6,
     "metadata": {},
     "output_type": "execute_result"
    }
   ],
   "source": [
    "malData.describe() # to generate descriptive statistics "
   ]
  },
  {
   "cell_type": "code",
   "execution_count": 7,
   "id": "18ec4e51",
   "metadata": {},
   "outputs": [
    {
     "name": "stdout",
     "output_type": "stream",
     "text": [
      "The shape of the legit dataset is: 41323 samples, 56 features\n",
      "The shape of the mal dataset is: 96735 samples, 56 features\n"
     ]
    }
   ],
   "source": [
    "legit=malData[0:41323].drop([\"legitimate\"],axis=1)\n",
    "mal=malData[41312::].drop([\"legitimate\"],axis=1)\n",
    "print(\"The shape of the legit dataset is: %s samples, %s features\"%(legit.shape[0],legit.shape[1]))\n",
    "print(\"The shape of the mal dataset is: %s samples, % s features\"  %(mal.shape[0],mal.shape[1])) #shape of legit and malware file"
   ]
  },
  {
   "cell_type": "code",
   "execution_count": 8,
   "id": "096438c4",
   "metadata": {},
   "outputs": [
    {
     "data": {
      "image/png": "[encoded data removed]",
      "text/plain": [
       "<Figure size 432x288 with 1 Axes>"
      ]
     },
     "metadata": {
      "needs_background": "light"
     },
     "output_type": "display_data"
    }
   ],
   "source": [
    "fig=plt.figure()            \n",
    "ax=fig.add_axes([0,0,1,1])\n",
    "ax.hist(malData['legitimate'],20)\n",
    "plt.show()      "
   ]
  },
  {
   "cell_type": "markdown",
   "id": "95eddef6",
   "metadata": {},
   "source": [
    "# Data Cleaning"
   ]
  },
  {
   "cell_type": "code",
   "execution_count": 9,
   "id": "7a86a516",
   "metadata": {},
   "outputs": [],
   "source": [
    "y=malData['legitimate']\n",
    "malData=malData.drop(['legitimate'],axis=1)"
   ]
  },
  {
   "cell_type": "code",
   "execution_count": 10,
   "id": "08461a6e",
   "metadata": {},
   "outputs": [
    {
     "name": "stdout",
     "output_type": "stream",
     "text": [
      "The name and md5 variables are removed successfully\n"
     ]
    }
   ],
   "source": [
    "malData=malData.drop(['Name'],axis=1)\n",
    "malData=malData.drop(['md5'],axis=1)\n",
    "print(\"The name and md5 variables are removed successfully\") #removing unwanted coloums"
   ]
  },
  {
   "cell_type": "markdown",
   "id": "73496b58",
   "metadata": {},
   "source": [
    "# Spliting the database into test and train "
   ]
  },
  {
   "cell_type": "code",
   "execution_count": 11,
   "id": "85df3ce9",
   "metadata": {},
   "outputs": [],
   "source": [
    "from sklearn.model_selection import train_test_split\n",
    "X_train, X_test, y_train, y_test = train_test_split(malData,y,test_size=0.2,random_state=42)"
   ]
  },
  {
   "cell_type": "code",
   "execution_count": 12,
   "id": "2898f526",
   "metadata": {},
   "outputs": [
    {
     "data": {
      "text/plain": [
       "(110437, 54)"
      ]
     },
     "execution_count": 12,
     "metadata": {},
     "output_type": "execute_result"
    }
   ],
   "source": [
    "X_train.shape"
   ]
  },
  {
   "cell_type": "markdown",
   "id": "8a450601",
   "metadata": {},
   "source": [
    "# Model Building"
   ]
  },
  {
   "cell_type": "markdown",
   "id": "c61c2915",
   "metadata": {},
   "source": [
    "# 1-Random Forest "
   ]
  },
  {
   "cell_type": "code",
   "execution_count": 13,
   "id": "b8d995d7",
   "metadata": {},
   "outputs": [],
   "source": [
    "from sklearn.ensemble import RandomForestClassifier #importing random forest\n",
    "from sklearn.datasets import make_classification    #for evaluation\n",
    "\n",
    "clf=RandomForestClassifier(max_depth=2) \n",
    "randomModel=clf.fit(X_train,y_train)  #input variable,target data set variables "
   ]
  },
  {
   "cell_type": "markdown",
   "id": "ff98b78a",
   "metadata": {},
   "source": [
    "# Random forest evaluation on test data "
   ]
  },
  {
   "cell_type": "code",
   "execution_count": 14,
   "id": "91315ef0",
   "metadata": {},
   "outputs": [],
   "source": [
    "from sklearn.metrics import f1_score,accuracy_score,plot_confusion_matrix,auc,confusion_matrix #f1 score good for unbalanced dataset"
   ]
  },
  {
   "cell_type": "code",
   "execution_count": 15,
   "id": "cd3b7cbf",
   "metadata": {},
   "outputs": [
    {
     "data": {
      "text/plain": [
       "0.9828318407780001"
      ]
     },
     "execution_count": 15,
     "metadata": {},
     "output_type": "execute_result"
    }
   ],
   "source": [
    "# Accuracy on the train dataset   \n",
    "train_pred=randomModel.predict(X_train)\n",
    "accuracy_score(y_train,train_pred)"
   ]
  },
  {
   "cell_type": "code",
   "execution_count": 16,
   "id": "e30d920f",
   "metadata": {},
   "outputs": [
    {
     "data": {
      "text/plain": [
       "0.9838102136906918"
      ]
     },
     "execution_count": 16,
     "metadata": {},
     "output_type": "execute_result"
    }
   ],
   "source": [
    "# Accuracy on the test dataset\n",
    "prediction=randomModel.predict(X_test)\n",
    "accuracy_score(y_test,prediction) "
   ]
  },
  {
   "cell_type": "code",
   "execution_count": 17,
   "id": "1f35f702",
   "metadata": {},
   "outputs": [
    {
     "data": {
      "text/plain": [
       "0.9730933606212002"
      ]
     },
     "execution_count": 17,
     "metadata": {},
     "output_type": "execute_result"
    }
   ],
   "source": [
    "f1_score(y_test,prediction)"
   ]
  },
  {
   "cell_type": "markdown",
   "id": "25814201",
   "metadata": {},
   "source": [
    "# confusion matrix "
   ]
  },
  {
   "cell_type": "code",
   "execution_count": 18,
   "id": "628ef626",
   "metadata": {},
   "outputs": [
    {
     "name": "stdout",
     "output_type": "stream",
     "text": [
      "confusion matrix, without normaliztion\n",
      "[[19080   170]\n",
      " [  277  8083]]\n"
     ]
    },
    {
     "data": {
      "image/png": "[encoded data removed]",
      "text/plain": [
       "<Figure size 432x288 with 2 Axes>"
      ]
     },
     "metadata": {
      "needs_background": "light"
     },
     "output_type": "display_data"
    },
    {
     "name": "stdout",
     "output_type": "stream",
     "text": [
      "Normalized confusion matrix\n",
      "[[0.99116883 0.00883117]\n",
      " [0.03313397 0.96686603]]\n"
     ]
    },
    {
     "data": {
      "image/png": "[encoded data removed]",
      "text/plain": [
       "<Figure size 432x288 with 2 Axes>"
      ]
     },
     "metadata": {
      "needs_background": "light"
     },
     "output_type": "display_data"
    }
   ],
   "source": [
    "titles_options=[(\"confusion matrix, without normaliztion\",None),\n",
    "                         (\"Normalized confusion matrix\",'true')]\n",
    "for title, normalize in titles_options:\n",
    "    disp=plot_confusion_matrix(randomModel,X_test,y_test, \n",
    "                              # display_labels='legitimate',\n",
    "                               cmap=plt.cm.Blues,\n",
    "                               normalize=normalize)\n",
    "    \n",
    "    disp.ax_.set_title(title)\n",
    "    \n",
    "    print(title)\n",
    "    print(disp.confusion_matrix)\n",
    "    \n",
    "    plt.show()  \n",
    "    \n",
    "    \n",
    "    "
   ]
  },
  {
   "cell_type": "markdown",
   "id": "3b9d53b0",
   "metadata": {},
   "source": [
    "# 2 - logistic regression  "
   ]
  },
  {
   "cell_type": "code",
   "execution_count": 19,
   "id": "28c34e11",
   "metadata": {},
   "outputs": [
    {
     "name": "stderr",
     "output_type": "stream",
     "text": [
      "C:\\ProgramData\\Anaconda3\\lib\\site-packages\\sklearn\\linear_model\\_logistic.py:763: ConvergenceWarning: lbfgs failed to converge (status=2):\n",
      "ABNORMAL_TERMINATION_IN_LNSRCH.\n",
      "\n",
      "Increase the number of iterations (max_iter) or scale the data as shown in:\n",
      "    https://scikit-learn.org/stable/modules/preprocessing.html\n",
      "Please also refer to the documentation for alternative solver options:\n",
      "    https://scikit-learn.org/stable/modules/linear_model.html#logistic-regression\n",
      "  n_iter_i = _check_optimize_result(\n"
     ]
    }
   ],
   "source": [
    "from sklearn.linear_model import LogisticRegression\n",
    "\n",
    "clf = LogisticRegression(random_state=0)\n",
    "logModel=clf.fit(X_train,y_train)"
   ]
  },
  {
   "cell_type": "markdown",
   "id": "41f63694",
   "metadata": {},
   "source": [
    "# Model Evaluation "
   ]
  },
  {
   "cell_type": "code",
   "execution_count": 20,
   "id": "494aed72",
   "metadata": {},
   "outputs": [
    {
     "data": {
      "text/plain": [
       "0.7015221347917817"
      ]
     },
     "execution_count": 20,
     "metadata": {},
     "output_type": "execute_result"
    }
   ],
   "source": [
    "# Accuracy on the train dataset\n",
    "train_log=logModel.predict(X_train)\n",
    "accuracy_score(y_train,train_log) "
   ]
  },
  {
   "cell_type": "code",
   "execution_count": 21,
   "id": "e1a92d84",
   "metadata": {},
   "outputs": [
    {
     "data": {
      "text/plain": [
       "0.6972111553784861"
      ]
     },
     "execution_count": 21,
     "metadata": {},
     "output_type": "execute_result"
    }
   ],
   "source": [
    "#Accuracy on the test dataset\n",
    "pred=logModel.predict(X_test)\n",
    "accuracy_score(y_test,pred) "
   ]
  },
  {
   "cell_type": "code",
   "execution_count": 22,
   "id": "32219ea3",
   "metadata": {},
   "outputs": [
    {
     "data": {
      "text/plain": [
       "0.0"
      ]
     },
     "execution_count": 22,
     "metadata": {},
     "output_type": "execute_result"
    }
   ],
   "source": [
    "f1_score(y_test,pred)"
   ]
  },
  {
   "cell_type": "code",
   "execution_count": 23,
   "id": "432ef427",
   "metadata": {},
   "outputs": [
    {
     "name": "stdout",
     "output_type": "stream",
     "text": [
      "confusion matrix, without normaliztion\n",
      "[[19250     0]\n",
      " [ 8360     0]]\n"
     ]
    },
    {
     "data": {
      "image/png": "[encoded data removed]",
      "text/plain": [
       "<Figure size 432x288 with 2 Axes>"
      ]
     },
     "metadata": {
      "needs_background": "light"
     },
     "output_type": "display_data"
    },
    {
     "name": "stdout",
     "output_type": "stream",
     "text": [
      "Normalized confusion matrix\n",
      "[[1. 0.]\n",
      " [1. 0.]]\n"
     ]
    },
    {
     "data": {
      "image/png": "[encoded data removed]",
      "text/plain": [
       "<Figure size 432x288 with 2 Axes>"
      ]
     },
     "metadata": {
      "needs_background": "light"
     },
     "output_type": "display_data"
    }
   ],
   "source": [
    "titles_options=[(\"confusion matrix, without normaliztion\",None),\n",
    "                         (\"Normalized confusion matrix\",'true')]\n",
    "for title, normalize in titles_options:\n",
    "    disp=plot_confusion_matrix(logModel,X_test,y_test, \n",
    "                              # display_labels='legitimate',\n",
    "                               cmap=plt.cm.Blues,\n",
    "                               normalize=normalize)\n",
    "    \n",
    "    disp.ax_.set_title(title)\n",
    "    \n",
    "    print(title)\n",
    "    print(disp.confusion_matrix)\n",
    "    \n",
    "    plt.show()  \n",
    "    \n",
    "    \n",
    "    "
   ]
  },
  {
   "cell_type": "markdown",
   "id": "b7a77ce7",
   "metadata": {},
   "source": [
    "# 3 - Neural Network "
   ]
  },
  {
   "cell_type": "code",
   "execution_count": 24,
   "id": "6720a7b7",
   "metadata": {},
   "outputs": [],
   "source": [
    "import tensorflow as tf # fast numerical computing \n",
    "from tensorflow.keras.models import Sequential\n",
    "from tensorflow.keras.layers import Dense"
   ]
  },
  {
   "cell_type": "code",
   "execution_count": 25,
   "id": "7fe9b326",
   "metadata": {},
   "outputs": [
    {
     "name": "stdout",
     "output_type": "stream",
     "text": [
      "Model: \"sequential\"\n",
      "_________________________________________________________________\n",
      "Layer (type)                 Output Shape              Param #   \n",
      "=================================================================\n",
      "dense (Dense)                (None, 16)                880       \n",
      "_________________________________________________________________\n",
      "dense_1 (Dense)              (None, 8)                 136       \n",
      "_________________________________________________________________\n",
      "dense_2 (Dense)              (None, 4)                 36        \n",
      "_________________________________________________________________\n",
      "dense_3 (Dense)              (None, 1)                 5         \n",
      "=================================================================\n",
      "Total params: 1,057\n",
      "Trainable params: 1,057\n",
      "Non-trainable params: 0\n",
      "_________________________________________________________________\n"
     ]
    }
   ],
   "source": [
    "# Define model\n",
    "model =Sequential()\n",
    "model.add(Dense(16,input_dim=54,activation=\"relu\"))\n",
    "model.add(Dense(8,activation=\"relu\"))\n",
    "model.add(Dense(4,activation=\"relu\"))\n",
    "model.add(Dense(1,activation=\"sigmoid\"))\n",
    "model.summary() #print model summary \n"
   ]
  },
  {
   "cell_type": "code",
   "execution_count": 26,
   "id": "a114b242",
   "metadata": {},
   "outputs": [],
   "source": [
    "#comile model\n",
    "model.compile(loss=\"binary_crossentropy\", optimizer = \"rmsprop\",metrics=[\"accuracy\"])"
   ]
  },
  {
   "cell_type": "code",
   "execution_count": 27,
   "id": "b8054644",
   "metadata": {},
   "outputs": [
    {
     "name": "stdout",
     "output_type": "stream",
     "text": [
      "Epoch 1/5\n",
      "3452/3452 [==============================] - 3s 733us/step - loss: 205612672.0000 - accuracy: 0.8889\n",
      "Epoch 2/5\n",
      "3452/3452 [==============================] - 3s 735us/step - loss: 0.6118 - accuracy: 0.7015\n",
      "Epoch 3/5\n",
      "3452/3452 [==============================] - 2s 676us/step - loss: 0.6096 - accuracy: 0.7015\n",
      "Epoch 4/5\n",
      "3452/3452 [==============================] - 2s 679us/step - loss: 0.6096 - accuracy: 0.7015\n",
      "Epoch 5/5\n",
      "3452/3452 [==============================] - 2s 682us/step - loss: 0.6096 - accuracy: 0.7015\n"
     ]
    },
    {
     "data": {
      "text/plain": [
       "<tensorflow.python.keras.callbacks.History at 0x1bfe9702a00>"
      ]
     },
     "execution_count": 27,
     "metadata": {},
     "output_type": "execute_result"
    }
   ],
   "source": [
    "#Fir modl\n",
    "model.fit(X_train,y_train,epochs=5,batch_size=32) # number of passes of the entire training dataset algorithm has completed."
   ]
  },
  {
   "cell_type": "code",
   "execution_count": 36,
   "id": "f87fad11",
   "metadata": {},
   "outputs": [
    {
     "data": {
      "text/plain": [
       "0.7015221347917817"
      ]
     },
     "execution_count": 36,
     "metadata": {},
     "output_type": "execute_result"
    }
   ],
   "source": [
    "# Accuracy on the training dataset\n",
    "trainPred=model.predict(X_train)\n",
    "\n",
    "trainPred=[1 if y>=0.8 else 0   for y in trainPred]\n",
    "accuracy_score(y_train,trainPred)"
   ]
  },
  {
   "cell_type": "code",
   "execution_count": 41,
   "id": "43d872d8",
   "metadata": {},
   "outputs": [
    {
     "data": {
      "text/plain": [
       "0.30278884462151395"
      ]
     },
     "execution_count": 41,
     "metadata": {},
     "output_type": "execute_result"
    }
   ],
   "source": [
    "# Accuracy on the test dataset\n",
    "y_prediction=model.predict(X_test)\n",
    "y_prediction=[1 if y>=0.2 else 0   for y in y_prediction]\n",
    "accuracy_score(y_test,y_prediction)\n"
   ]
  },
  {
   "cell_type": "code",
   "execution_count": 42,
   "id": "d422ad14",
   "metadata": {},
   "outputs": [
    {
     "data": {
      "text/plain": [
       "array([[    0, 19250],\n",
       "       [    0,  8360]], dtype=int64)"
      ]
     },
     "execution_count": 42,
     "metadata": {},
     "output_type": "execute_result"
    }
   ],
   "source": [
    "confusion_matrix(y_test,y_prediction) "
   ]
  },
  {
   "cell_type": "code",
   "execution_count": 43,
   "id": "1ee6fc98",
   "metadata": {},
   "outputs": [
    {
     "data": {
      "text/plain": [
       "0.4648318042813456"
      ]
     },
     "execution_count": 43,
     "metadata": {},
     "output_type": "execute_result"
    }
   ],
   "source": [
    "f1_score(y_test,y_prediction) "
   ]
  },
  {
   "cell_type": "code",
   "execution_count": null,
   "id": "ae1bf229",
   "metadata": {},
   "outputs": [],
   "source": []
  },
  {
   "cell_type": "code",
   "execution_count": null,
   "id": "0c6cfed3",
   "metadata": {},
   "outputs": [],
   "source": []
  },
  {
   "cell_type": "code",
   "execution_count": null,
   "id": "733c44b4",
   "metadata": {},
   "outputs": [],
   "source": []
  }
 ],
 "metadata": {
  "kernelspec": {
   "display_name": "Python 3",
   "language": "python",
   "name": "python3"
  },
  "language_info": {
   "codemirror_mode": {
    "name": "ipython",
    "version": 3
   },
   "file_extension": ".py",
   "mimetype": "text/x-python",
   "name": "python",
   "nbconvert_exporter": "python",
   "pygments_lexer": "ipython3",
   "version": "3.8.8"
  }
 },
 "nbformat": 4,
 "nbformat_minor": 5
}
